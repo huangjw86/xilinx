{
 "cells": [
  {
   "cell_type": "code",
   "execution_count": 2,
   "id": "de166ef2",
   "metadata": {},
   "outputs": [
    {
     "data": {
      "text/plain": [
       "RegisterMap {\n",
       "  CTRL = Register(AP_START=0, AP_DONE=0, AP_IDLE=1, AP_READY=0, RESERVED_1=0, AUTO_RESTART=0, RESERVED_2=0, RESERVED_3=0, RESERVED_4=0),\n",
       "  GIER = Register(Enable=0, RESERVED=0),\n",
       "  IP_IER = Register(CHAN0_INT_EN=0, CHAN1_INT_EN=0, RESERVED=0),\n",
       "  IP_ISR = Register(CHAN0_INT_ST=0, CHAN1_INT_ST=0, RESERVED=0),\n",
       "  x = Register(x=write-only),\n",
       "  y = Register(y=write-only),\n",
       "  r = Register(r=0),\n",
       "  r_ctrl = Register(r_ap_vld=0, RESERVED=0),\n",
       "  theta = Register(theta=0),\n",
       "  theta_ctrl = Register(theta_ap_vld=0, RESERVED=0)\n",
       "}"
      ]
     },
     "execution_count": 2,
     "metadata": {},
     "output_type": "execute_result"
    }
   ],
   "source": [
    "from pynq import Overlay, allocate\n",
    "overlay = Overlay(\"./cordic.bit\")\n",
    "cordiccart2pol = overlay.cordiccart2pol_0\n",
    "cordiccart2pol.register_map"
   ]
  },
  {
   "cell_type": "code",
   "execution_count": 3,
   "id": "7bd120bd",
   "metadata": {},
   "outputs": [
    {
     "name": "stdout",
     "output_type": "stream",
     "text": [
      "Radius RMSE: 5.939696961966999e-05 Theta RMSE 2.050609665440988e-05\n",
      "PASS\n"
     ]
    }
   ],
   "source": [
    "import random\n",
    "import cmath\n",
    "import struct\n",
    "import binascii\n",
    "import numpy as np\n",
    "r_error=np.arange(0,10,0.1)\n",
    "theta_error = np.arange(0,10,0.1)\n",
    "for i in range(1,2):\n",
    "\n",
    "    x = random.uniform(-1,1)\n",
    "    y = random.uniform(-1,1)\n",
    "#计算golden output\n",
    "    cn = complex(x,y)  #复数类型书写\n",
    "    cn = cmath.polar(cn)\n",
    "#将输入转换成byte发送给FPGA\n",
    "    x = (struct.unpack('<I',struct.pack('<f',x))[0])\n",
    "    y = (struct.unpack('<I',struct.pack('<f',y))[0])\n",
    "    #向FPGA中写数值\n",
    "    cordiccart2pol.write(0x10,x)\n",
    "    cordiccart2pol.write(0x18,y)\n",
    "    #启动\n",
    "    cordiccart2pol.write(0x00,1)\n",
    "    cordiccart2pol.write(0x00,0)\n",
    "    r = hex(cordiccart2pol.read(0x20))\n",
    "    r = r[2:]\n",
    "    theta = hex(cordiccart2pol.read(0x30))\n",
    "    theta = theta[2:]\n",
    "#转换成float类型\n",
    "    if r!= 0:\n",
    "        r=struct.unpack('>f',binascii.unhexlify(r))\n",
    "        r = r[0]\n",
    "    if theta!=0:\n",
    "        theta= struct.unpack('>f',binascii.unhexlify(theta))\n",
    "        theta=theta[0]\n",
    "#和golden输出进行比较\n",
    "    r_error[i] = \"{0:.6f}\".format(abs(r-cn[0]))\n",
    "    theta_error[i] = \"{0:.6f}\".format(abs(theta-cn[1]))\n",
    "sum_sq_r=0\n",
    "sum_sq_theta=0\n",
    "for i in range(1,2):\n",
    "    sum_sq_r = sum_sq_r +(r_error[i] * r_error[i])\n",
    "    r_rnse=np.sqrt(sum_sq_r/(i+1))\n",
    "    sum_sq_theta = sum_sq_theta + (theta_error[i] * theta_error[i])\n",
    "    theta_rnse = np.sqrt(sum_sq_theta/(i+1))\n",
    "    print(\"Radius RMSE:\", r_rnse, \"Theta RMSE\", theta_rnse)\n",
    "    if r_rnse<0.001 and theta_rnse < 0.001:\n",
    "        print(\"PASS\")\n",
    "    else:\n",
    "        print(\"FAIL\")"
   ]
  },
  {
   "cell_type": "code",
   "execution_count": null,
   "id": "0eee7fbd",
   "metadata": {},
   "outputs": [],
   "source": []
  }
 ],
 "metadata": {
  "kernelspec": {
   "display_name": "Python 3",
   "language": "python",
   "name": "python3"
  },
  "language_info": {
   "codemirror_mode": {
    "name": "ipython",
    "version": 3
   },
   "file_extension": ".py",
   "mimetype": "text/x-python",
   "name": "python",
   "nbconvert_exporter": "python",
   "pygments_lexer": "ipython3",
   "version": "3.8.2"
  }
 },
 "nbformat": 4,
 "nbformat_minor": 5
}
